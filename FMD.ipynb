{
  "nbformat": 4,
  "nbformat_minor": 0,
  "metadata": {
    "colab": {
      "provenance": [],
      "toc_visible": true
    },
    "kernelspec": {
      "name": "python3",
      "display_name": "Python 3"
    },
    "language_info": {
      "name": "python"
    }
  },
  "cells": [
    {
      "cell_type": "markdown",
      "source": [
        "# **1.DATA PRE-PROCESSING.**\n"
      ],
      "metadata": {
        "id": "n7Yw080tdl2W"
      }
    },
    {
      "cell_type": "code",
      "source": [
        "import csv\n",
        "\n",
        "file_path = '/content/fmd_cases - Sheet1.csv'\n",
        "\n",
        "def preprocess_dataset(file_path):\n",
        "    \"\"\"\n",
        "    Preprocess the dataset by converting it into a dictionary format.\n",
        "\n",
        "    Args:\n",
        "        file_path (str): The path to the CSV file containing the dataset.\n",
        "\n",
        "    Returns:\n",
        "        dict: A dictionary representing the dataset, where each case is a dictionary containing the input parameters,\n",
        "              diagnosis, treatment, and outcome.\n",
        "    \"\"\"\n",
        "    case_database = {}\n",
        "\n",
        "    # Open the CSV file\n",
        "    with open(file_path, 'r') as file:\n",
        "        reader = csv.DictReader(file)\n",
        "\n",
        "        # Iterate over each row (case) in the CSV file\n",
        "        for row in reader:\n",
        "            case_id = row['Case ID']\n",
        "            symptoms = row['Symptoms'].split(', ')  # Split the symptoms into a list\n",
        "            age = int(row['Animal Age (Months)'])\n",
        "            sex = row['Animal Sex']\n",
        "            environmental_conditions = row['Environmental Conditions']\n",
        "            diagnosis = row['Diagnosis']\n",
        "            treatment = row['Treatment'].split(', ')  # Split the treatment into a list\n",
        "            outcome = row['Outcome']\n",
        "\n",
        "            # Create a dictionary for the current case\n",
        "            case = {\n",
        "                'symptoms': symptoms,\n",
        "                'age': age,\n",
        "                'sex': sex,\n",
        "                'environmental_conditions': environmental_conditions,\n",
        "                'diagnosis': diagnosis,\n",
        "                'treatment': treatment,\n",
        "                'outcome': outcome\n",
        "            }\n",
        "\n",
        "            # Add the case to the case database\n",
        "            case_database[case_id] = case\n",
        "\n",
        "    return case_database\n",
        "\n",
        "# Example usage\n",
        "case_database = preprocess_dataset('fmd_cases - Sheet1.csv')\n",
        "\n",
        "print(\"Case Database:\")\n",
        "print(case_database)\n",
        "\n",
        "# Print each case individually\n",
        "print(\"\\nIndividual Cases:\")\n",
        "for case_id, case in case_database.items():\n",
        "    print(f\"\\nCase ID: {case_id}\")\n",
        "    for key, value in case.items():\n",
        "        print(f\"{key}: {value}\")"
      ],
      "metadata": {
        "colab": {
          "base_uri": "https://localhost:8080/"
        },
        "id": "ps1pC0MxdsdR",
        "outputId": "737aae99-bc6a-49c4-a62a-a6156125d646"
      },
      "execution_count": 16,
      "outputs": [
        {
          "output_type": "stream",
          "name": "stdout",
          "text": [
            "Case Database:\n",
            "{'FMD001': {'symptoms': ['Blisters on mouth', 'tongue', 'and feet', 'excessive salivation', 'fever (104°F)', 'reduced appetite'], 'age': 18, 'sex': 'Female', 'environmental_conditions': 'Recent introduction of new cattle', 'diagnosis': 'Foot-and-Mouth Disease', 'treatment': ['Antibiotics', 'anti-inflammatory drugs', 'fluid therapy'], 'outcome': 'Recovered'}, 'FMD002': {'symptoms': ['Blisters on udder', 'fever (103°F)', 'decreased milk production', 'lethargy'], 'age': 72, 'sex': 'Female', 'environmental_conditions': 'Shared grazing pasture with infected herd', 'diagnosis': 'Foot-and-Mouth Disease', 'treatment': ['Antibiotics', 'anti-inflammatory drugs', 'supportive care'], 'outcome': 'Recovered with prolonged milk production loss'}, 'FMD003': {'symptoms': ['Mouth blisters', 'tongue lesions', 'lameness', 'fever (102°F)', 'nasal discharge'], 'age': 24, 'sex': 'Male', 'environmental_conditions': 'Poor biosecurity measures', 'diagnosis': 'Foot-and-Mouth Disease', 'treatment': ['Antibiotics', 'anti-inflammatory drugs', 'fluid therapy'], 'outcome': 'Recovered'}, 'FMD004': {'symptoms': ['Foot lesions', 'severe lameness', 'fever (105°F)', 'off-feed'], 'age': 36, 'sex': 'Female', 'environmental_conditions': 'Contaminated water source', 'diagnosis': 'Foot-and-Mouth Disease', 'treatment': ['Antibiotics', 'anti-inflammatory drugs', 'fluid therapy'], 'outcome': 'Euthanized due to complications'}, 'FMD005': {'symptoms': ['Udder blisters', 'fever (104°F)', 'reduced milk production (>50% drop)', 'weight loss'], 'age': 60, 'sex': 'Female', 'environmental_conditions': 'Unsanitary milking parlor conditions', 'diagnosis': 'Foot-and-Mouth Disease', 'treatment': ['Antibiotics', 'anti-inflammatory drugs', 'supportive care'], 'outcome': 'Recovered with permanent milk production loss'}, 'FMD006': {'symptoms': ['Mouth blisters', 'excessive salivation', 'fever (103°F)', 'decreased rumination'], 'age': 48, 'sex': 'Male', 'environmental_conditions': 'Introduction of infected livestock', 'diagnosis': 'Foot-and-Mouth Disease', 'treatment': ['Antibiotics', 'anti-inflammatory drugs', 'fluid therapy'], 'outcome': 'Recovered'}, 'FMD007': {'symptoms': ['Foot lesions', 'lameness', 'fever (102°F)', 'nasal discharge', 'reluctance to move'], 'age': 30, 'sex': 'Female', 'environmental_conditions': 'Overcrowded holding pen during transportation', 'diagnosis': 'Foot-and-Mouth Disease', 'treatment': ['Antibiotics', 'anti-inflammatory drugs', 'fluid therapy'], 'outcome': 'Recovered'}, 'FMD008': {'symptoms': ['Blisters on tongue and gums', 'drooling', 'fever (101°F)', 'off-feed'], 'age': 36, 'sex': 'Male', 'environmental_conditions': 'Shared water trough with infected animals', 'diagnosis': 'Foot-and-Mouth Disease', 'treatment': ['Antibiotics', 'anti-inflammatory drugs', 'supportive care'], 'outcome': 'Recovered'}, 'FMD009': {'symptoms': ['Udder lesions', 'fever (103°F)', 'decreased milk yield (>30% drop)', 'weight loss'], 'age': 96, 'sex': 'Female', 'environmental_conditions': 'Poor hygiene practices during milking', 'diagnosis': 'Foot-and-Mouth Disease', 'treatment': ['Antibiotics', 'anti-inflammatory drugs', 'supportive care'], 'outcome': 'Recovered with permanent milk production loss'}, 'FMD010': {'symptoms': ['Mouth blisters', 'excessive salivation', 'fever (104°F)', 'nasal discharge', 'reluctance to eat'], 'age': 42, 'sex': 'Male', 'environmental_conditions': 'Contact with contaminated equipment', 'diagnosis': 'Foot-and-Mouth Disease', 'treatment': ['Antibiotics', 'anti-inflammatory drugs', 'fluid therapy'], 'outcome': 'Recovered'}}\n",
            "\n",
            "Individual Cases:\n",
            "\n",
            "Case ID: FMD001\n",
            "symptoms: ['Blisters on mouth', 'tongue', 'and feet', 'excessive salivation', 'fever (104°F)', 'reduced appetite']\n",
            "age: 18\n",
            "sex: Female\n",
            "environmental_conditions: Recent introduction of new cattle\n",
            "diagnosis: Foot-and-Mouth Disease\n",
            "treatment: ['Antibiotics', 'anti-inflammatory drugs', 'fluid therapy']\n",
            "outcome: Recovered\n",
            "\n",
            "Case ID: FMD002\n",
            "symptoms: ['Blisters on udder', 'fever (103°F)', 'decreased milk production', 'lethargy']\n",
            "age: 72\n",
            "sex: Female\n",
            "environmental_conditions: Shared grazing pasture with infected herd\n",
            "diagnosis: Foot-and-Mouth Disease\n",
            "treatment: ['Antibiotics', 'anti-inflammatory drugs', 'supportive care']\n",
            "outcome: Recovered with prolonged milk production loss\n",
            "\n",
            "Case ID: FMD003\n",
            "symptoms: ['Mouth blisters', 'tongue lesions', 'lameness', 'fever (102°F)', 'nasal discharge']\n",
            "age: 24\n",
            "sex: Male\n",
            "environmental_conditions: Poor biosecurity measures\n",
            "diagnosis: Foot-and-Mouth Disease\n",
            "treatment: ['Antibiotics', 'anti-inflammatory drugs', 'fluid therapy']\n",
            "outcome: Recovered\n",
            "\n",
            "Case ID: FMD004\n",
            "symptoms: ['Foot lesions', 'severe lameness', 'fever (105°F)', 'off-feed']\n",
            "age: 36\n",
            "sex: Female\n",
            "environmental_conditions: Contaminated water source\n",
            "diagnosis: Foot-and-Mouth Disease\n",
            "treatment: ['Antibiotics', 'anti-inflammatory drugs', 'fluid therapy']\n",
            "outcome: Euthanized due to complications\n",
            "\n",
            "Case ID: FMD005\n",
            "symptoms: ['Udder blisters', 'fever (104°F)', 'reduced milk production (>50% drop)', 'weight loss']\n",
            "age: 60\n",
            "sex: Female\n",
            "environmental_conditions: Unsanitary milking parlor conditions\n",
            "diagnosis: Foot-and-Mouth Disease\n",
            "treatment: ['Antibiotics', 'anti-inflammatory drugs', 'supportive care']\n",
            "outcome: Recovered with permanent milk production loss\n",
            "\n",
            "Case ID: FMD006\n",
            "symptoms: ['Mouth blisters', 'excessive salivation', 'fever (103°F)', 'decreased rumination']\n",
            "age: 48\n",
            "sex: Male\n",
            "environmental_conditions: Introduction of infected livestock\n",
            "diagnosis: Foot-and-Mouth Disease\n",
            "treatment: ['Antibiotics', 'anti-inflammatory drugs', 'fluid therapy']\n",
            "outcome: Recovered\n",
            "\n",
            "Case ID: FMD007\n",
            "symptoms: ['Foot lesions', 'lameness', 'fever (102°F)', 'nasal discharge', 'reluctance to move']\n",
            "age: 30\n",
            "sex: Female\n",
            "environmental_conditions: Overcrowded holding pen during transportation\n",
            "diagnosis: Foot-and-Mouth Disease\n",
            "treatment: ['Antibiotics', 'anti-inflammatory drugs', 'fluid therapy']\n",
            "outcome: Recovered\n",
            "\n",
            "Case ID: FMD008\n",
            "symptoms: ['Blisters on tongue and gums', 'drooling', 'fever (101°F)', 'off-feed']\n",
            "age: 36\n",
            "sex: Male\n",
            "environmental_conditions: Shared water trough with infected animals\n",
            "diagnosis: Foot-and-Mouth Disease\n",
            "treatment: ['Antibiotics', 'anti-inflammatory drugs', 'supportive care']\n",
            "outcome: Recovered\n",
            "\n",
            "Case ID: FMD009\n",
            "symptoms: ['Udder lesions', 'fever (103°F)', 'decreased milk yield (>30% drop)', 'weight loss']\n",
            "age: 96\n",
            "sex: Female\n",
            "environmental_conditions: Poor hygiene practices during milking\n",
            "diagnosis: Foot-and-Mouth Disease\n",
            "treatment: ['Antibiotics', 'anti-inflammatory drugs', 'supportive care']\n",
            "outcome: Recovered with permanent milk production loss\n",
            "\n",
            "Case ID: FMD010\n",
            "symptoms: ['Mouth blisters', 'excessive salivation', 'fever (104°F)', 'nasal discharge', 'reluctance to eat']\n",
            "age: 42\n",
            "sex: Male\n",
            "environmental_conditions: Contact with contaminated equipment\n",
            "diagnosis: Foot-and-Mouth Disease\n",
            "treatment: ['Antibiotics', 'anti-inflammatory drugs', 'fluid therapy']\n",
            "outcome: Recovered\n"
          ]
        }
      ]
    },
    {
      "cell_type": "markdown",
      "source": [
        "# **2.CALCULATE SIMILARITY MEASURES.**"
      ],
      "metadata": {
        "id": "ddu_XYwLhBPt"
      }
    },
    {
      "cell_type": "code",
      "source": [
        "import difflib\n",
        "\n",
        "def calculate_symptom_similarity(new_symptoms, existing_symptoms):\n",
        "    \"\"\"\n",
        "    Calculate the similarity between the symptoms of a new case and an existing case.\n",
        "\n",
        "    Args:\n",
        "        new_symptoms (list): A list of symptoms for the new case.\n",
        "        existing_symptoms (list): A list of symptoms for an existing case.\n",
        "\n",
        "    Returns:\n",
        "        float: A similarity score between 0 and 1, where 1 indicates an exact match.\n",
        "    \"\"\"\n",
        "    new_symptom_set = set(new_symptoms)\n",
        "    existing_symptom_set = set(existing_symptoms)\n",
        "\n",
        "    # Calculate the ratio of common symptoms\n",
        "    common_symptoms = new_symptom_set.intersection(existing_symptom_set)\n",
        "    symptom_similarity = len(common_symptoms) / max(len(new_symptom_set), len(existing_symptom_set), 1)\n",
        "\n",
        "    return symptom_similarity\n",
        "\n",
        "def calculate_age_similarity(new_age, existing_age):\n",
        "    \"\"\"\n",
        "    Calculate the similarity between the ages of a new case and an existing case.\n",
        "\n",
        "    Args:\n",
        "        new_age (int): The age (in months) of the new case.\n",
        "        existing_age (int): The age (in months) of an existing case.\n",
        "\n",
        "    Returns:\n",
        "        float: A similarity score between 0 and 1, where 1 indicates an exact match.\n",
        "    \"\"\"\n",
        "    max_age = max(new_age, existing_age)\n",
        "    age_difference = abs(new_age - existing_age)\n",
        "    age_similarity = 1 - (age_difference / max_age) if max_age > 0 else 1\n",
        "\n",
        "    return age_similarity\n",
        "\n",
        "def calculate_environmental_similarity(new_conditions, existing_conditions):\n",
        "    \"\"\"\n",
        "    Calculate the similarity between the environmental conditions of a new case and an existing case.\n",
        "\n",
        "    Args:\n",
        "        new_conditions (str): A string describing the environmental conditions for the new case.\n",
        "        existing_conditions (str): A string describing the environmental conditions for an existing case.\n",
        "\n",
        "    Returns:\n",
        "        float: A similarity score between 0 and 1, where 1 indicates an exact match.\n",
        "    \"\"\"\n",
        "    sequence_matcher = difflib.SequenceMatcher(None, new_conditions, existing_conditions)\n",
        "    environmental_similarity = sequence_matcher.ratio()\n",
        "\n",
        "    return environmental_similarity\n",
        "\n",
        "def calculate_overall_similarity(new_case, existing_case, weights):\n",
        "    \"\"\"\n",
        "    Calculate the overall similarity between a new case and an existing case.\n",
        "\n",
        "    Args:\n",
        "        new_case (dict): A dictionary representing the new case.\n",
        "        existing_case (dict): A dictionary representing an existing case.\n",
        "        weights (dict): A dictionary containing weights for each feature (symptom, age, environmental conditions).\n",
        "\n",
        "    Returns:\n",
        "        float: An overall similarity score between 0 and 1, where 1 indicates an exact match.\n",
        "    \"\"\"\n",
        "    symptom_similarity = calculate_symptom_similarity(new_case['symptoms'], existing_case['symptoms'])\n",
        "    age_similarity = calculate_age_similarity(new_case['age'], existing_case['age'])\n",
        "    environmental_similarity = calculate_environmental_similarity(new_case['environmental_conditions'],\n",
        "                                                                  existing_case['environmental_conditions'])\n",
        "\n",
        "    overall_similarity = (weights['symptoms'] * symptom_similarity +\n",
        "                          weights['age'] * age_similarity +\n",
        "                          weights['environmental_conditions'] * environmental_similarity)\n",
        "\n",
        "    return overall_similarity"
      ],
      "metadata": {
        "id": "GbIF2PvBhHt_"
      },
      "execution_count": 17,
      "outputs": []
    },
    {
      "cell_type": "code",
      "source": [
        "# Define the weights for each feature\n",
        "weights = {\n",
        "    'symptoms': 0.8,\n",
        "    'age': 0.1,\n",
        "    'environmental_conditions': 0.1\n",
        "}\n",
        "\n",
        "new_case = {\n",
        "    'symptoms': ['Blisters on mouth', 'Blisters on feet', 'Excessive salivation', 'Fever', 'Reduced appetite'],\n",
        "    'age': 18,\n",
        "    'environmental_conditions': 'Recent introduction of new cattle'\n",
        "}\n",
        "\n",
        "existing_case = {\n",
        "    'symptoms': ['Blisters on mouth', 'Blisters on feet', 'Excessive salivation', 'Fever', 'Reduced appetite'],\n",
        "    'age': 18,\n",
        "    'environmental_conditions': 'Recent introduction of new cattle'\n",
        "}\n",
        "\n",
        "overall_similarity = calculate_overall_similarity(new_case, existing_case, weights)\n",
        "overall_similarity_percentage = overall_similarity * 100\n",
        "print(f\"Overall similarity score: {overall_similarity_percentage:.2f}%\")\n"
      ],
      "metadata": {
        "colab": {
          "base_uri": "https://localhost:8080/"
        },
        "id": "CLK13d8Lhtx1",
        "outputId": "2c87a6cb-f9bf-45b3-c5a6-68ffd399cf6b"
      },
      "execution_count": 37,
      "outputs": [
        {
          "output_type": "stream",
          "name": "stdout",
          "text": [
            "Overall similarity score: 100.00%\n"
          ]
        }
      ]
    },
    {
      "cell_type": "markdown",
      "source": [
        "# **3. IMPLEMENTING CASE RETRIEVAL**"
      ],
      "metadata": {
        "id": "I0OEuumeiOud"
      }
    },
    {
      "cell_type": "code",
      "source": [
        "from collections import defaultdict\n",
        "\n",
        "def retrieve_similar_cases(new_case, case_database, similarity_threshold=0.5, top_n=3):\n",
        "    \"\"\"\n",
        "    Retrieve the most similar cases from the case database for a given new case.\n",
        "\n",
        "    Args:\n",
        "        new_case (dict): A dictionary representing the new case.\n",
        "        case_database (dict): A dictionary containing the existing cases.\n",
        "        similarity_threshold (float): The minimum similarity score required to consider a case as similar.\n",
        "        top_n (int): The maximum number of similar cases to retrieve.\n",
        "\n",
        "    Returns:\n",
        "        list: A list of tuples, where each tuple contains the case ID and the corresponding case dictionary\n",
        "              for the top N most similar cases.\n",
        "    \"\"\"\n",
        "    similar_cases = defaultdict(list)\n",
        "\n",
        "    # Calculate the similarity between the new case and each existing case\n",
        "    for case_id, existing_case in case_database.items():\n",
        "        overall_similarity = calculate_overall_similarity(new_case, existing_case, weights)\n",
        "        if overall_similarity >= similarity_threshold:\n",
        "            similar_cases[overall_similarity].append((case_id, existing_case))\n",
        "\n",
        "    # Sort the similar cases by similarity score in descending order\n",
        "    sorted_similar_cases = sorted(similar_cases.items(), reverse=True)\n",
        "\n",
        "    # Retrieve the top N similar cases\n",
        "    top_similar_cases = []\n",
        "    for similarity_score, case_list in sorted_similar_cases:\n",
        "        top_similar_cases.extend(case_list[:top_n])\n",
        "        top_n -= len(case_list)\n",
        "        if top_n <= 0:\n",
        "            break\n",
        "\n",
        "    return top_similar_cases"
      ],
      "metadata": {
        "id": "zVTXPY7TiV62"
      },
      "execution_count": 19,
      "outputs": []
    },
    {
      "cell_type": "code",
      "source": [
        "new_case = {\n",
        "    'symptoms':  ['Udder lesions', 'fever (103°F)', 'decreased milk yield (>30% drop)', 'weight loss'],\n",
        "    'age': 96,\n",
        "    'sex': 'Female',\n",
        "    'environmental_conditions': 'Poor hygiene practices during milking'\n",
        "}\n",
        "\n",
        "top_similar_cases = retrieve_similar_cases(new_case, case_database, similarity_threshold=0.7, top_n=5)\n",
        "\n",
        "print(f\"Number of similar cases retrieved: {len(top_similar_cases)}\")\n",
        "\n",
        "if not top_similar_cases:\n",
        "    print(\"No similar cases found above the specified threshold.\")\n",
        "else:\n",
        "    for case_id, case in top_similar_cases:\n",
        "        print(f\"Case ID: {case_id}\")\n",
        "        print(f\"Symptoms: {case['symptoms']}\")\n",
        "        print(f\"Age: {case['age']} months\")\n",
        "        print(f\"Environmental Conditions: {case['environmental_conditions']}\")\n",
        "        print(\"---\")"
      ],
      "metadata": {
        "colab": {
          "base_uri": "https://localhost:8080/"
        },
        "id": "5yX1J9Deic1A",
        "outputId": "ff52cbfa-44de-4452-c70c-78ca0083d51a"
      },
      "execution_count": 26,
      "outputs": [
        {
          "output_type": "stream",
          "name": "stdout",
          "text": [
            "Number of similar cases retrieved: 1\n",
            "Case ID: FMD009\n",
            "Symptoms: ['Udder lesions', 'fever (103°F)', 'decreased milk yield (>30% drop)', 'weight loss']\n",
            "Age: 96 months\n",
            "Environmental Conditions: Poor hygiene practices during milking\n",
            "---\n"
          ]
        }
      ]
    },
    {
      "cell_type": "markdown",
      "source": [
        "# **4. DETERMINING THE DIAGNOSIS AMND TREATMENT**"
      ],
      "metadata": {
        "id": "xKPdKrztldGm"
      }
    },
    {
      "cell_type": "code",
      "source": [
        "from collections import Counter\n",
        "\n",
        "def diagnose_and_treat(new_case, similar_cases):\n",
        "    \"\"\"\n",
        "    Determine the diagnosis and treatment for a new case based on the most similar cases.\n",
        "\n",
        "    Args:\n",
        "        new_case (dict): A dictionary representing the new case.\n",
        "        similar_cases (list): A list of tuples, where each tuple contains the case ID, the corresponding case dictionary,\n",
        "                              and the similarity score for the most similar cases.\n",
        "\n",
        "    Returns:\n",
        "        tuple: A tuple containing the determined diagnosis (str) and the recommended treatment (list).\n",
        "    \"\"\"\n",
        "    diagnoses = []\n",
        "    treatments = []\n",
        "\n",
        "    # Collect diagnoses and treatments from the similar cases\n",
        "    for case_id, case, similarity_score in similar_cases:\n",
        "        diagnoses.append(case['diagnosis'])\n",
        "        treatments.append(case['treatment'])\n",
        "\n",
        "    # If no similar cases were found, return default values\n",
        "    if not diagnoses:\n",
        "        return \"Unknown\", []\n",
        "\n",
        "    # Determine the most common diagnosis\n",
        "    diagnosis_counter = Counter(diagnoses)\n",
        "    most_common_diagnosis, _ = diagnosis_counter.most_common(1)[0]\n",
        "\n",
        "    # Determine the most common treatment\n",
        "    treatment_counter = Counter([item for sublist in treatments for item in sublist])\n",
        "    most_common_treatment = [item for item, count in treatment_counter.most_common() if count >= len(similar_cases) // 2]\n",
        "\n",
        "    return most_common_diagnosis, most_common_treatment\n",
        "\n",
        "def retrieve_similar_cases(new_case, case_database, similarity_threshold=0.5, top_n=3):\n",
        "    \"\"\"\n",
        "    Retrieve the most similar cases from the case database for a given new case.\n",
        "\n",
        "    Args:\n",
        "        new_case (dict): A dictionary representing the new case.\n",
        "        case_database (dict): A dictionary containing the existing cases.\n",
        "        similarity_threshold (float): The minimum similarity score required to consider a case as similar.\n",
        "        top_n (int): The maximum number of similar cases to retrieve.\n",
        "\n",
        "    Returns:\n",
        "        list: A list of tuples, where each tuple contains the case ID, the corresponding case dictionary,\n",
        "              and the similarity score for the top N most similar cases.\n",
        "    \"\"\"\n",
        "    similar_cases = defaultdict(list)\n",
        "\n",
        "    # Calculate the similarity between the new case and each existing case\n",
        "    for case_id, existing_case in case_database.items():\n",
        "        overall_similarity = calculate_overall_similarity(new_case, existing_case, weights)\n",
        "        if overall_similarity >= similarity_threshold:\n",
        "            similar_cases[overall_similarity].append((case_id, existing_case, overall_similarity))\n",
        "\n",
        "    # Sort the similar cases by similarity score in descending order\n",
        "    sorted_similar_cases = sorted(similar_cases.items(), reverse=True)\n",
        "\n",
        "    # Retrieve the top N similar cases\n",
        "    top_similar_cases = []\n",
        "    for similarity_score, case_list in sorted_similar_cases:\n",
        "        top_similar_cases.extend(case_list[:top_n])\n",
        "        top_n -= len(case_list)\n",
        "        if top_n <= 0:\n",
        "            break\n",
        "\n",
        "    return top_similar_cases\n",
        "\n"
      ],
      "metadata": {
        "id": "Kp_yF6ABlp7E"
      },
      "execution_count": 39,
      "outputs": []
    },
    {
      "cell_type": "code",
      "source": [
        "new_case = {\n",
        "    'symptoms': ['Udder lesions', 'fever (103°F)', 'decreased milk yield (>30% drop)'],\n",
        "    'age': 24,\n",
        "    'sex': 'Male',\n",
        "    'environmental_conditions': 'Poor hygiene practices during milking'\n",
        "}\n",
        "\n",
        "top_similar_cases = retrieve_similar_cases(new_case, case_database, similarity_threshold=0.7, top_n=5)\n",
        "diagnosis, treatment = diagnose_and_treat(new_case, top_similar_cases)\n",
        "\n",
        "print(f\"Diagnosis: {diagnosis}\")\n",
        "print(f\"Recommended Treatment: {', '.join(treatment)}\")\n",
        "\n",
        "# Print the retrieved similar cases with their similarity scores\n",
        "print(\"\\nRetrieved Similar Cases:\")\n",
        "for case_id, case, similarity_score in top_similar_cases:\n",
        "    print(f\"Case ID: {case_id}, Similarity Score: {similarity_score:.2f}\")\n",
        "    print(f\"Symptoms: {case['symptoms']}\")\n",
        "    print(f\"Age: {case['age']} months\")\n",
        "    print(f\"Sex: {case['sex']}\")\n",
        "    print(f\"Environmental Conditions: {case['environmental_conditions']}\")\n",
        "    print(\"---\")"
      ],
      "metadata": {
        "colab": {
          "base_uri": "https://localhost:8080/"
        },
        "id": "QBuxA80JlvPU",
        "outputId": "d70e78a5-69c4-4981-8796-7f6fc32e70b9"
      },
      "execution_count": 43,
      "outputs": [
        {
          "output_type": "stream",
          "name": "stdout",
          "text": [
            "Diagnosis: Foot-and-Mouth Disease\n",
            "Recommended Treatment: Antibiotics, anti-inflammatory drugs, supportive care\n",
            "\n",
            "Retrieved Similar Cases:\n",
            "Case ID: FMD009, Similarity Score: 0.73\n",
            "Symptoms: ['Udder lesions', 'fever (103°F)', 'decreased milk yield (>30% drop)', 'weight loss']\n",
            "Age: 96 months\n",
            "Sex: Female\n",
            "Environmental Conditions: Poor hygiene practices during milking\n",
            "---\n"
          ]
        }
      ]
    },
    {
      "cell_type": "markdown",
      "source": [
        "# **5.PREDICTING THE PROGNOSIS**"
      ],
      "metadata": {
        "id": "A6Cs9OImqGXc"
      }
    },
    {
      "cell_type": "code",
      "source": [
        "from collections import Counter\n",
        "\n",
        "def predict_prognosis(new_case, similar_cases):\n",
        "    \"\"\"\n",
        "    Predict the prognosis for a new case based on the outcomes of the most similar cases.\n",
        "\n",
        "    Args:\n",
        "        new_case (dict): A dictionary representing the new case.\n",
        "        similar_cases (list): A list of tuples, where each tuple contains the case ID, the corresponding case dictionary,\n",
        "                              and the similarity score for the most similar cases.\n",
        "\n",
        "    Returns:\n",
        "        str: The predicted prognosis for the new case.\n",
        "    \"\"\"\n",
        "    outcomes = []\n",
        "\n",
        "    # Collect outcomes from the similar cases\n",
        "    for case_id, case, similarity_score in similar_cases:\n",
        "        outcomes.append(case['outcome'])\n",
        "\n",
        "    # If no similar cases were found, return a default prognosis\n",
        "    if not outcomes:\n",
        "        return \"Unable to predict prognosis due to lack of similar cases.\"\n",
        "\n",
        "    # Determine the most common outcome\n",
        "    outcome_counter = Counter(outcomes)\n",
        "    most_common_outcome, _ = outcome_counter.most_common(1)[0]\n",
        "\n",
        "    # Determine the prognosis based on the most common outcome\n",
        "    if \"Recovered\" in most_common_outcome:\n",
        "        prognosis = \"Likely to recover\"\n",
        "    elif \"Euthanized\" in most_common_outcome or \"Died\" in most_common_outcome:\n",
        "        prognosis = \"High risk of complications or mortality\"\n",
        "    else:\n",
        "        prognosis = \"Possible long-term effects or complications\"\n",
        "\n",
        "    return prognosis"
      ],
      "metadata": {
        "id": "AfPGbL6CqMZb"
      },
      "execution_count": 44,
      "outputs": []
    },
    {
      "cell_type": "code",
      "source": [
        "new_case = {\n",
        "    'symptoms': ['Udder lesions', 'fever (103°F)', 'decreased milk yield (>30% drop)'],\n",
        "    'age': 24,\n",
        "    'sex': 'Male',\n",
        "    'environmental_conditions': 'Poor hygiene practices during milking'\n",
        "}\n",
        "\n",
        "top_similar_cases = retrieve_similar_cases(new_case, case_database, similarity_threshold=0.7, top_n=5)\n",
        "diagnosis, treatment = diagnose_and_treat(new_case, top_similar_cases)\n",
        "prognosis = predict_prognosis(new_case, top_similar_cases)\n",
        "\n",
        "print(f\"Diagnosis: {diagnosis}\")\n",
        "print(f\"Recommended Treatment: {', '.join(treatment)}\")\n",
        "print(f\"Prognosis: {prognosis}\")"
      ],
      "metadata": {
        "colab": {
          "base_uri": "https://localhost:8080/"
        },
        "id": "1HKJ0JIuqQYf",
        "outputId": "eb654970-d0dc-48fd-f476-2be356c8f17b"
      },
      "execution_count": 45,
      "outputs": [
        {
          "output_type": "stream",
          "name": "stdout",
          "text": [
            "Diagnosis: Foot-and-Mouth Disease\n",
            "Recommended Treatment: Antibiotics, anti-inflammatory drugs, supportive care\n",
            "Prognosis: Likely to recover\n"
          ]
        }
      ]
    }
  ]
}